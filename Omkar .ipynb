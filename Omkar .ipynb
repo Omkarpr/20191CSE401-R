{
 "cells": [
  {
   "cell_type": "code",
   "execution_count": 1,
   "id": "2fdf1c7b",
   "metadata": {
    "_cell_guid": "b1076dfc-b9ad-4769-8c92-a6c4dae69d19",
    "_uuid": "8f2839f25d086af736a60e9eeb907d3b93b6e0e5",
    "execution": {
     "iopub.execute_input": "2021-11-03T07:06:02.294138Z",
     "iopub.status.busy": "2021-11-03T07:06:02.292416Z",
     "iopub.status.idle": "2021-11-03T07:06:02.306400Z",
     "shell.execute_reply": "2021-11-03T07:06:02.307161Z",
     "shell.execute_reply.started": "2021-11-03T07:04:54.020800Z"
    },
    "papermill": {
     "duration": 0.033922,
     "end_time": "2021-11-03T07:06:02.307628",
     "exception": false,
     "start_time": "2021-11-03T07:06:02.273706",
     "status": "completed"
    },
    "tags": []
   },
   "outputs": [
    {
     "name": "stdout",
     "output_type": "stream",
     "text": [
      "/kaggle/input/titanic/train.csv\n",
      "/kaggle/input/titanic/test.csv\n",
      "/kaggle/input/titanic/gender_submission.csv\n"
     ]
    }
   ],
   "source": [
    "# This Python 3 environment comes with many helpful analytics libraries installed\n",
    "# It is defined by the kaggle/python Docker image: https://github.com/kaggle/docker-python\n",
    "# For example, here's several helpful packages to load\n",
    "\n",
    "import numpy as np # linear algebra\n",
    "import pandas as pd # data processing, CSV file I/O (e.g. pd.read_csv)\n",
    "\n",
    "# Input data files are available in the read-only \"../input/\" directory\n",
    "# For example, running this (by clicking run or pressing Shift+Enter) will list all files under the input directory\n",
    "\n",
    "import os\n",
    "for dirname, _, filenames in os.walk('/kaggle/input'):\n",
    "    for filename in filenames:\n",
    "        print(os.path.join(dirname, filename))\n",
    "\n",
    "# You can write up to 20GB to the current directory (/kaggle/working/) that gets preserved as output when you create a version using \"Save & Run All\" \n",
    "# You can also write temporary files to /kaggle/temp/, but they won't be saved outside of the current session"
   ]
  },
  {
   "cell_type": "code",
   "execution_count": 2,
   "id": "ac58f255",
   "metadata": {
    "execution": {
     "iopub.execute_input": "2021-11-03T07:06:02.337490Z",
     "iopub.status.busy": "2021-11-03T07:06:02.336571Z",
     "iopub.status.idle": "2021-11-03T07:06:02.375629Z",
     "shell.execute_reply": "2021-11-03T07:06:02.376200Z",
     "shell.execute_reply.started": "2021-11-03T07:04:54.056681Z"
    },
    "papermill": {
     "duration": 0.055076,
     "end_time": "2021-11-03T07:06:02.376379",
     "exception": false,
     "start_time": "2021-11-03T07:06:02.321303",
     "status": "completed"
    },
    "tags": []
   },
   "outputs": [],
   "source": [
    "train_ds = pd.read_csv(\"../input/titanic/train.csv\")\n",
    "test_ds = pd.read_csv(\"../input/titanic/test.csv\")"
   ]
  },
  {
   "cell_type": "code",
   "execution_count": 3,
   "id": "b2ce95a9",
   "metadata": {
    "execution": {
     "iopub.execute_input": "2021-11-03T07:06:02.406310Z",
     "iopub.status.busy": "2021-11-03T07:06:02.405357Z",
     "iopub.status.idle": "2021-11-03T07:06:03.678993Z",
     "shell.execute_reply": "2021-11-03T07:06:03.678318Z",
     "shell.execute_reply.started": "2021-11-03T07:04:54.087261Z"
    },
    "papermill": {
     "duration": 1.289723,
     "end_time": "2021-11-03T07:06:03.679143",
     "exception": false,
     "start_time": "2021-11-03T07:06:02.389420",
     "status": "completed"
    },
    "tags": []
   },
   "outputs": [],
   "source": [
    "import matplotlib.pyplot as plt\n",
    "import missingno as mso\n",
    "import seaborn as sns\n",
    "from sklearn.linear_model import LogisticRegression\n",
    "from sklearn.model_selection import train_test_split\n",
    "from sklearn.metrics import confusion_matrix\n",
    "from sklearn.metrics import classification_report\n",
    "from sklearn.metrics import accuracy_score\n",
    "from sklearn.tree import DecisionTreeClassifier\n",
    "from sklearn.svm import SVC\n",
    "from sklearn.neighbors import KNeighborsClassifier\n",
    "import os"
   ]
  },
  {
   "cell_type": "code",
   "execution_count": 4,
   "id": "cb12b1f1",
   "metadata": {
    "execution": {
     "iopub.execute_input": "2021-11-03T07:06:03.712941Z",
     "iopub.status.busy": "2021-11-03T07:06:03.711990Z",
     "iopub.status.idle": "2021-11-03T07:06:03.732273Z",
     "shell.execute_reply": "2021-11-03T07:06:03.731735Z",
     "shell.execute_reply.started": "2021-11-03T07:04:55.448023Z"
    },
    "papermill": {
     "duration": 0.040761,
     "end_time": "2021-11-03T07:06:03.732409",
     "exception": false,
     "start_time": "2021-11-03T07:06:03.691648",
     "status": "completed"
    },
    "tags": []
   },
   "outputs": [
    {
     "data": {
      "text/html": [
       "<div>\n",
       "<style scoped>\n",
       "    .dataframe tbody tr th:only-of-type {\n",
       "        vertical-align: middle;\n",
       "    }\n",
       "\n",
       "    .dataframe tbody tr th {\n",
       "        vertical-align: top;\n",
       "    }\n",
       "\n",
       "    .dataframe thead th {\n",
       "        text-align: right;\n",
       "    }\n",
       "</style>\n",
       "<table border=\"1\" class=\"dataframe\">\n",
       "  <thead>\n",
       "    <tr style=\"text-align: right;\">\n",
       "      <th></th>\n",
       "      <th>PassengerId</th>\n",
       "      <th>Survived</th>\n",
       "      <th>Pclass</th>\n",
       "      <th>Name</th>\n",
       "      <th>Sex</th>\n",
       "      <th>Age</th>\n",
       "      <th>SibSp</th>\n",
       "      <th>Parch</th>\n",
       "      <th>Ticket</th>\n",
       "      <th>Fare</th>\n",
       "      <th>Cabin</th>\n",
       "      <th>Embarked</th>\n",
       "    </tr>\n",
       "  </thead>\n",
       "  <tbody>\n",
       "    <tr>\n",
       "      <th>0</th>\n",
       "      <td>1</td>\n",
       "      <td>0</td>\n",
       "      <td>3</td>\n",
       "      <td>Braund, Mr. Owen Harris</td>\n",
       "      <td>male</td>\n",
       "      <td>22.0</td>\n",
       "      <td>1</td>\n",
       "      <td>0</td>\n",
       "      <td>A/5 21171</td>\n",
       "      <td>7.2500</td>\n",
       "      <td>NaN</td>\n",
       "      <td>S</td>\n",
       "    </tr>\n",
       "    <tr>\n",
       "      <th>1</th>\n",
       "      <td>2</td>\n",
       "      <td>1</td>\n",
       "      <td>1</td>\n",
       "      <td>Cumings, Mrs. John Bradley (Florence Briggs Th...</td>\n",
       "      <td>female</td>\n",
       "      <td>38.0</td>\n",
       "      <td>1</td>\n",
       "      <td>0</td>\n",
       "      <td>PC 17599</td>\n",
       "      <td>71.2833</td>\n",
       "      <td>C85</td>\n",
       "      <td>C</td>\n",
       "    </tr>\n",
       "    <tr>\n",
       "      <th>2</th>\n",
       "      <td>3</td>\n",
       "      <td>1</td>\n",
       "      <td>3</td>\n",
       "      <td>Heikkinen, Miss. Laina</td>\n",
       "      <td>female</td>\n",
       "      <td>26.0</td>\n",
       "      <td>0</td>\n",
       "      <td>0</td>\n",
       "      <td>STON/O2. 3101282</td>\n",
       "      <td>7.9250</td>\n",
       "      <td>NaN</td>\n",
       "      <td>S</td>\n",
       "    </tr>\n",
       "    <tr>\n",
       "      <th>3</th>\n",
       "      <td>4</td>\n",
       "      <td>1</td>\n",
       "      <td>1</td>\n",
       "      <td>Futrelle, Mrs. Jacques Heath (Lily May Peel)</td>\n",
       "      <td>female</td>\n",
       "      <td>35.0</td>\n",
       "      <td>1</td>\n",
       "      <td>0</td>\n",
       "      <td>113803</td>\n",
       "      <td>53.1000</td>\n",
       "      <td>C123</td>\n",
       "      <td>S</td>\n",
       "    </tr>\n",
       "    <tr>\n",
       "      <th>4</th>\n",
       "      <td>5</td>\n",
       "      <td>0</td>\n",
       "      <td>3</td>\n",
       "      <td>Allen, Mr. William Henry</td>\n",
       "      <td>male</td>\n",
       "      <td>35.0</td>\n",
       "      <td>0</td>\n",
       "      <td>0</td>\n",
       "      <td>373450</td>\n",
       "      <td>8.0500</td>\n",
       "      <td>NaN</td>\n",
       "      <td>S</td>\n",
       "    </tr>\n",
       "  </tbody>\n",
       "</table>\n",
       "</div>"
      ],
      "text/plain": [
       "   PassengerId  Survived  Pclass  \\\n",
       "0            1         0       3   \n",
       "1            2         1       1   \n",
       "2            3         1       3   \n",
       "3            4         1       1   \n",
       "4            5         0       3   \n",
       "\n",
       "                                                Name     Sex   Age  SibSp  \\\n",
       "0                            Braund, Mr. Owen Harris    male  22.0      1   \n",
       "1  Cumings, Mrs. John Bradley (Florence Briggs Th...  female  38.0      1   \n",
       "2                             Heikkinen, Miss. Laina  female  26.0      0   \n",
       "3       Futrelle, Mrs. Jacques Heath (Lily May Peel)  female  35.0      1   \n",
       "4                           Allen, Mr. William Henry    male  35.0      0   \n",
       "\n",
       "   Parch            Ticket     Fare Cabin Embarked  \n",
       "0      0         A/5 21171   7.2500   NaN        S  \n",
       "1      0          PC 17599  71.2833   C85        C  \n",
       "2      0  STON/O2. 3101282   7.9250   NaN        S  \n",
       "3      0            113803  53.1000  C123        S  \n",
       "4      0            373450   8.0500   NaN        S  "
      ]
     },
     "execution_count": 4,
     "metadata": {},
     "output_type": "execute_result"
    }
   ],
   "source": [
    "train_ds.head()"
   ]
  },
  {
   "cell_type": "code",
   "execution_count": 5,
   "id": "5b1ae823",
   "metadata": {
    "execution": {
     "iopub.execute_input": "2021-11-03T07:06:03.772242Z",
     "iopub.status.busy": "2021-11-03T07:06:03.771604Z",
     "iopub.status.idle": "2021-11-03T07:06:03.774728Z",
     "shell.execute_reply": "2021-11-03T07:06:03.775211Z",
     "shell.execute_reply.started": "2021-11-03T07:04:55.478957Z"
    },
    "papermill": {
     "duration": 0.029879,
     "end_time": "2021-11-03T07:06:03.775373",
     "exception": false,
     "start_time": "2021-11-03T07:06:03.745494",
     "status": "completed"
    },
    "tags": []
   },
   "outputs": [
    {
     "data": {
      "text/html": [
       "<div>\n",
       "<style scoped>\n",
       "    .dataframe tbody tr th:only-of-type {\n",
       "        vertical-align: middle;\n",
       "    }\n",
       "\n",
       "    .dataframe tbody tr th {\n",
       "        vertical-align: top;\n",
       "    }\n",
       "\n",
       "    .dataframe thead th {\n",
       "        text-align: right;\n",
       "    }\n",
       "</style>\n",
       "<table border=\"1\" class=\"dataframe\">\n",
       "  <thead>\n",
       "    <tr style=\"text-align: right;\">\n",
       "      <th></th>\n",
       "      <th>PassengerId</th>\n",
       "      <th>Pclass</th>\n",
       "      <th>Name</th>\n",
       "      <th>Sex</th>\n",
       "      <th>Age</th>\n",
       "      <th>SibSp</th>\n",
       "      <th>Parch</th>\n",
       "      <th>Ticket</th>\n",
       "      <th>Fare</th>\n",
       "      <th>Cabin</th>\n",
       "      <th>Embarked</th>\n",
       "    </tr>\n",
       "  </thead>\n",
       "  <tbody>\n",
       "    <tr>\n",
       "      <th>0</th>\n",
       "      <td>892</td>\n",
       "      <td>3</td>\n",
       "      <td>Kelly, Mr. James</td>\n",
       "      <td>male</td>\n",
       "      <td>34.5</td>\n",
       "      <td>0</td>\n",
       "      <td>0</td>\n",
       "      <td>330911</td>\n",
       "      <td>7.8292</td>\n",
       "      <td>NaN</td>\n",
       "      <td>Q</td>\n",
       "    </tr>\n",
       "    <tr>\n",
       "      <th>1</th>\n",
       "      <td>893</td>\n",
       "      <td>3</td>\n",
       "      <td>Wilkes, Mrs. James (Ellen Needs)</td>\n",
       "      <td>female</td>\n",
       "      <td>47.0</td>\n",
       "      <td>1</td>\n",
       "      <td>0</td>\n",
       "      <td>363272</td>\n",
       "      <td>7.0000</td>\n",
       "      <td>NaN</td>\n",
       "      <td>S</td>\n",
       "    </tr>\n",
       "    <tr>\n",
       "      <th>2</th>\n",
       "      <td>894</td>\n",
       "      <td>2</td>\n",
       "      <td>Myles, Mr. Thomas Francis</td>\n",
       "      <td>male</td>\n",
       "      <td>62.0</td>\n",
       "      <td>0</td>\n",
       "      <td>0</td>\n",
       "      <td>240276</td>\n",
       "      <td>9.6875</td>\n",
       "      <td>NaN</td>\n",
       "      <td>Q</td>\n",
       "    </tr>\n",
       "    <tr>\n",
       "      <th>3</th>\n",
       "      <td>895</td>\n",
       "      <td>3</td>\n",
       "      <td>Wirz, Mr. Albert</td>\n",
       "      <td>male</td>\n",
       "      <td>27.0</td>\n",
       "      <td>0</td>\n",
       "      <td>0</td>\n",
       "      <td>315154</td>\n",
       "      <td>8.6625</td>\n",
       "      <td>NaN</td>\n",
       "      <td>S</td>\n",
       "    </tr>\n",
       "    <tr>\n",
       "      <th>4</th>\n",
       "      <td>896</td>\n",
       "      <td>3</td>\n",
       "      <td>Hirvonen, Mrs. Alexander (Helga E Lindqvist)</td>\n",
       "      <td>female</td>\n",
       "      <td>22.0</td>\n",
       "      <td>1</td>\n",
       "      <td>1</td>\n",
       "      <td>3101298</td>\n",
       "      <td>12.2875</td>\n",
       "      <td>NaN</td>\n",
       "      <td>S</td>\n",
       "    </tr>\n",
       "  </tbody>\n",
       "</table>\n",
       "</div>"
      ],
      "text/plain": [
       "   PassengerId  Pclass                                          Name     Sex  \\\n",
       "0          892       3                              Kelly, Mr. James    male   \n",
       "1          893       3              Wilkes, Mrs. James (Ellen Needs)  female   \n",
       "2          894       2                     Myles, Mr. Thomas Francis    male   \n",
       "3          895       3                              Wirz, Mr. Albert    male   \n",
       "4          896       3  Hirvonen, Mrs. Alexander (Helga E Lindqvist)  female   \n",
       "\n",
       "    Age  SibSp  Parch   Ticket     Fare Cabin Embarked  \n",
       "0  34.5      0      0   330911   7.8292   NaN        Q  \n",
       "1  47.0      1      0   363272   7.0000   NaN        S  \n",
       "2  62.0      0      0   240276   9.6875   NaN        Q  \n",
       "3  27.0      0      0   315154   8.6625   NaN        S  \n",
       "4  22.0      1      1  3101298  12.2875   NaN        S  "
      ]
     },
     "execution_count": 5,
     "metadata": {},
     "output_type": "execute_result"
    }
   ],
   "source": [
    "test_ds.head()"
   ]
  },
  {
   "cell_type": "code",
   "execution_count": 6,
   "id": "93a2bdc7",
   "metadata": {
    "execution": {
     "iopub.execute_input": "2021-11-03T07:06:03.804468Z",
     "iopub.status.busy": "2021-11-03T07:06:03.803920Z",
     "iopub.status.idle": "2021-11-03T07:06:03.827295Z",
     "shell.execute_reply": "2021-11-03T07:06:03.826774Z",
     "shell.execute_reply.started": "2021-11-03T07:04:55.495777Z"
    },
    "papermill": {
     "duration": 0.038834,
     "end_time": "2021-11-03T07:06:03.827430",
     "exception": false,
     "start_time": "2021-11-03T07:06:03.788596",
     "status": "completed"
    },
    "tags": []
   },
   "outputs": [
    {
     "name": "stdout",
     "output_type": "stream",
     "text": [
      "<class 'pandas.core.frame.DataFrame'>\n",
      "RangeIndex: 891 entries, 0 to 890\n",
      "Data columns (total 12 columns):\n",
      " #   Column       Non-Null Count  Dtype  \n",
      "---  ------       --------------  -----  \n",
      " 0   PassengerId  891 non-null    int64  \n",
      " 1   Survived     891 non-null    int64  \n",
      " 2   Pclass       891 non-null    int64  \n",
      " 3   Name         891 non-null    object \n",
      " 4   Sex          891 non-null    object \n",
      " 5   Age          714 non-null    float64\n",
      " 6   SibSp        891 non-null    int64  \n",
      " 7   Parch        891 non-null    int64  \n",
      " 8   Ticket       891 non-null    object \n",
      " 9   Fare         891 non-null    float64\n",
      " 10  Cabin        204 non-null    object \n",
      " 11  Embarked     889 non-null    object \n",
      "dtypes: float64(2), int64(5), object(5)\n",
      "memory usage: 83.7+ KB\n"
     ]
    }
   ],
   "source": [
    "train_ds.info()"
   ]
  },
  {
   "cell_type": "code",
   "execution_count": 7,
   "id": "2bb04cd7",
   "metadata": {
    "execution": {
     "iopub.execute_input": "2021-11-03T07:06:03.857263Z",
     "iopub.status.busy": "2021-11-03T07:06:03.856636Z",
     "iopub.status.idle": "2021-11-03T07:06:03.869399Z",
     "shell.execute_reply": "2021-11-03T07:06:03.870221Z",
     "shell.execute_reply.started": "2021-11-03T07:04:55.529492Z"
    },
    "papermill": {
     "duration": 0.029583,
     "end_time": "2021-11-03T07:06:03.870490",
     "exception": false,
     "start_time": "2021-11-03T07:06:03.840907",
     "status": "completed"
    },
    "tags": []
   },
   "outputs": [
    {
     "name": "stdout",
     "output_type": "stream",
     "text": [
      "<class 'pandas.core.frame.DataFrame'>\n",
      "RangeIndex: 418 entries, 0 to 417\n",
      "Data columns (total 11 columns):\n",
      " #   Column       Non-Null Count  Dtype  \n",
      "---  ------       --------------  -----  \n",
      " 0   PassengerId  418 non-null    int64  \n",
      " 1   Pclass       418 non-null    int64  \n",
      " 2   Name         418 non-null    object \n",
      " 3   Sex          418 non-null    object \n",
      " 4   Age          332 non-null    float64\n",
      " 5   SibSp        418 non-null    int64  \n",
      " 6   Parch        418 non-null    int64  \n",
      " 7   Ticket       418 non-null    object \n",
      " 8   Fare         417 non-null    float64\n",
      " 9   Cabin        91 non-null     object \n",
      " 10  Embarked     418 non-null    object \n",
      "dtypes: float64(2), int64(4), object(5)\n",
      "memory usage: 36.0+ KB\n"
     ]
    }
   ],
   "source": [
    "test_ds.info()"
   ]
  },
  {
   "cell_type": "code",
   "execution_count": 8,
   "id": "741dcac1",
   "metadata": {
    "execution": {
     "iopub.execute_input": "2021-11-03T07:06:03.905955Z",
     "iopub.status.busy": "2021-11-03T07:06:03.905078Z",
     "iopub.status.idle": "2021-11-03T07:06:03.907191Z",
     "shell.execute_reply": "2021-11-03T07:06:03.907617Z",
     "shell.execute_reply.started": "2021-11-03T07:04:55.546373Z"
    },
    "papermill": {
     "duration": 0.022617,
     "end_time": "2021-11-03T07:06:03.907790",
     "exception": false,
     "start_time": "2021-11-03T07:06:03.885173",
     "status": "completed"
    },
    "tags": []
   },
   "outputs": [],
   "source": [
    "train_ds['Age']=train_ds['Age'].fillna(train_ds['Age'].mean())"
   ]
  },
  {
   "cell_type": "code",
   "execution_count": 9,
   "id": "c96f44c2",
   "metadata": {
    "execution": {
     "iopub.execute_input": "2021-11-03T07:06:03.944810Z",
     "iopub.status.busy": "2021-11-03T07:06:03.943894Z",
     "iopub.status.idle": "2021-11-03T07:06:03.946742Z",
     "shell.execute_reply": "2021-11-03T07:06:03.946191Z",
     "shell.execute_reply.started": "2021-11-03T07:04:55.553783Z"
    },
    "papermill": {
     "duration": 0.023345,
     "end_time": "2021-11-03T07:06:03.946916",
     "exception": false,
     "start_time": "2021-11-03T07:06:03.923571",
     "status": "completed"
    },
    "tags": []
   },
   "outputs": [],
   "source": [
    "train=train_ds.iloc[:,[0,1,2,4,5,6]]"
   ]
  },
  {
   "cell_type": "markdown",
   "id": "5b3ac688",
   "metadata": {
    "papermill": {
     "duration": 0.013376,
     "end_time": "2021-11-03T07:06:03.974155",
     "exception": false,
     "start_time": "2021-11-03T07:06:03.960779",
     "status": "completed"
    },
    "tags": []
   },
   "source": [
    "Considering only those attributes that may influence the outcome."
   ]
  },
  {
   "cell_type": "code",
   "execution_count": 10,
   "id": "1caaaa4c",
   "metadata": {
    "execution": {
     "iopub.execute_input": "2021-11-03T07:06:04.014055Z",
     "iopub.status.busy": "2021-11-03T07:06:04.007868Z",
     "iopub.status.idle": "2021-11-03T07:06:04.017352Z",
     "shell.execute_reply": "2021-11-03T07:06:04.017787Z",
     "shell.execute_reply.started": "2021-11-03T07:04:55.570237Z"
    },
    "papermill": {
     "duration": 0.029573,
     "end_time": "2021-11-03T07:06:04.017982",
     "exception": false,
     "start_time": "2021-11-03T07:06:03.988409",
     "status": "completed"
    },
    "tags": []
   },
   "outputs": [
    {
     "data": {
      "text/html": [
       "<div>\n",
       "<style scoped>\n",
       "    .dataframe tbody tr th:only-of-type {\n",
       "        vertical-align: middle;\n",
       "    }\n",
       "\n",
       "    .dataframe tbody tr th {\n",
       "        vertical-align: top;\n",
       "    }\n",
       "\n",
       "    .dataframe thead th {\n",
       "        text-align: right;\n",
       "    }\n",
       "</style>\n",
       "<table border=\"1\" class=\"dataframe\">\n",
       "  <thead>\n",
       "    <tr style=\"text-align: right;\">\n",
       "      <th></th>\n",
       "      <th>PassengerId</th>\n",
       "      <th>Survived</th>\n",
       "      <th>Pclass</th>\n",
       "      <th>Sex</th>\n",
       "      <th>Age</th>\n",
       "      <th>SibSp</th>\n",
       "    </tr>\n",
       "  </thead>\n",
       "  <tbody>\n",
       "    <tr>\n",
       "      <th>0</th>\n",
       "      <td>1</td>\n",
       "      <td>0</td>\n",
       "      <td>3</td>\n",
       "      <td>male</td>\n",
       "      <td>22.0</td>\n",
       "      <td>1</td>\n",
       "    </tr>\n",
       "    <tr>\n",
       "      <th>1</th>\n",
       "      <td>2</td>\n",
       "      <td>1</td>\n",
       "      <td>1</td>\n",
       "      <td>female</td>\n",
       "      <td>38.0</td>\n",
       "      <td>1</td>\n",
       "    </tr>\n",
       "    <tr>\n",
       "      <th>2</th>\n",
       "      <td>3</td>\n",
       "      <td>1</td>\n",
       "      <td>3</td>\n",
       "      <td>female</td>\n",
       "      <td>26.0</td>\n",
       "      <td>0</td>\n",
       "    </tr>\n",
       "    <tr>\n",
       "      <th>3</th>\n",
       "      <td>4</td>\n",
       "      <td>1</td>\n",
       "      <td>1</td>\n",
       "      <td>female</td>\n",
       "      <td>35.0</td>\n",
       "      <td>1</td>\n",
       "    </tr>\n",
       "    <tr>\n",
       "      <th>4</th>\n",
       "      <td>5</td>\n",
       "      <td>0</td>\n",
       "      <td>3</td>\n",
       "      <td>male</td>\n",
       "      <td>35.0</td>\n",
       "      <td>0</td>\n",
       "    </tr>\n",
       "  </tbody>\n",
       "</table>\n",
       "</div>"
      ],
      "text/plain": [
       "   PassengerId  Survived  Pclass     Sex   Age  SibSp\n",
       "0            1         0       3    male  22.0      1\n",
       "1            2         1       1  female  38.0      1\n",
       "2            3         1       3  female  26.0      0\n",
       "3            4         1       1  female  35.0      1\n",
       "4            5         0       3    male  35.0      0"
      ]
     },
     "execution_count": 10,
     "metadata": {},
     "output_type": "execute_result"
    }
   ],
   "source": [
    "train.head()"
   ]
  },
  {
   "cell_type": "code",
   "execution_count": 11,
   "id": "33cf78da",
   "metadata": {
    "execution": {
     "iopub.execute_input": "2021-11-03T07:06:04.051293Z",
     "iopub.status.busy": "2021-11-03T07:06:04.050376Z",
     "iopub.status.idle": "2021-11-03T07:06:04.061901Z",
     "shell.execute_reply": "2021-11-03T07:06:04.062348Z",
     "shell.execute_reply.started": "2021-11-03T07:04:55.588337Z"
    },
    "papermill": {
     "duration": 0.029582,
     "end_time": "2021-11-03T07:06:04.062519",
     "exception": false,
     "start_time": "2021-11-03T07:06:04.032937",
     "status": "completed"
    },
    "tags": []
   },
   "outputs": [
    {
     "name": "stdout",
     "output_type": "stream",
     "text": [
      "<class 'pandas.core.frame.DataFrame'>\n",
      "RangeIndex: 891 entries, 0 to 890\n",
      "Data columns (total 6 columns):\n",
      " #   Column       Non-Null Count  Dtype  \n",
      "---  ------       --------------  -----  \n",
      " 0   PassengerId  891 non-null    int64  \n",
      " 1   Survived     891 non-null    int64  \n",
      " 2   Pclass       891 non-null    int64  \n",
      " 3   Sex          891 non-null    object \n",
      " 4   Age          891 non-null    float64\n",
      " 5   SibSp        891 non-null    int64  \n",
      "dtypes: float64(1), int64(4), object(1)\n",
      "memory usage: 41.9+ KB\n"
     ]
    }
   ],
   "source": [
    "train.info()"
   ]
  },
  {
   "cell_type": "markdown",
   "id": "2d9a3c43",
   "metadata": {
    "papermill": {
     "duration": 0.014138,
     "end_time": "2021-11-03T07:06:04.091299",
     "exception": false,
     "start_time": "2021-11-03T07:06:04.077161",
     "status": "completed"
    },
    "tags": []
   },
   "source": []
  },
  {
   "cell_type": "code",
   "execution_count": 12,
   "id": "aa79c099",
   "metadata": {
    "execution": {
     "iopub.execute_input": "2021-11-03T07:06:04.123849Z",
     "iopub.status.busy": "2021-11-03T07:06:04.122917Z",
     "iopub.status.idle": "2021-11-03T07:06:04.131121Z",
     "shell.execute_reply": "2021-11-03T07:06:04.131557Z",
     "shell.execute_reply.started": "2021-11-03T07:04:55.609174Z"
    },
    "papermill": {
     "duration": 0.026184,
     "end_time": "2021-11-03T07:06:04.131734",
     "exception": false,
     "start_time": "2021-11-03T07:06:04.105550",
     "status": "completed"
    },
    "tags": []
   },
   "outputs": [],
   "source": [
    "train=pd.get_dummies(train,columns=['Sex'])"
   ]
  },
  {
   "cell_type": "code",
   "execution_count": 13,
   "id": "4313d4fd",
   "metadata": {
    "execution": {
     "iopub.execute_input": "2021-11-03T07:06:04.165275Z",
     "iopub.status.busy": "2021-11-03T07:06:04.164302Z",
     "iopub.status.idle": "2021-11-03T07:06:04.174576Z",
     "shell.execute_reply": "2021-11-03T07:06:04.175041Z",
     "shell.execute_reply.started": "2021-11-03T07:04:55.619450Z"
    },
    "papermill": {
     "duration": 0.028645,
     "end_time": "2021-11-03T07:06:04.175206",
     "exception": false,
     "start_time": "2021-11-03T07:06:04.146561",
     "status": "completed"
    },
    "tags": []
   },
   "outputs": [
    {
     "data": {
      "text/html": [
       "<div>\n",
       "<style scoped>\n",
       "    .dataframe tbody tr th:only-of-type {\n",
       "        vertical-align: middle;\n",
       "    }\n",
       "\n",
       "    .dataframe tbody tr th {\n",
       "        vertical-align: top;\n",
       "    }\n",
       "\n",
       "    .dataframe thead th {\n",
       "        text-align: right;\n",
       "    }\n",
       "</style>\n",
       "<table border=\"1\" class=\"dataframe\">\n",
       "  <thead>\n",
       "    <tr style=\"text-align: right;\">\n",
       "      <th></th>\n",
       "      <th>PassengerId</th>\n",
       "      <th>Survived</th>\n",
       "      <th>Pclass</th>\n",
       "      <th>Age</th>\n",
       "      <th>SibSp</th>\n",
       "      <th>Sex_female</th>\n",
       "      <th>Sex_male</th>\n",
       "    </tr>\n",
       "  </thead>\n",
       "  <tbody>\n",
       "    <tr>\n",
       "      <th>0</th>\n",
       "      <td>1</td>\n",
       "      <td>0</td>\n",
       "      <td>3</td>\n",
       "      <td>22.0</td>\n",
       "      <td>1</td>\n",
       "      <td>0</td>\n",
       "      <td>1</td>\n",
       "    </tr>\n",
       "    <tr>\n",
       "      <th>1</th>\n",
       "      <td>2</td>\n",
       "      <td>1</td>\n",
       "      <td>1</td>\n",
       "      <td>38.0</td>\n",
       "      <td>1</td>\n",
       "      <td>1</td>\n",
       "      <td>0</td>\n",
       "    </tr>\n",
       "    <tr>\n",
       "      <th>2</th>\n",
       "      <td>3</td>\n",
       "      <td>1</td>\n",
       "      <td>3</td>\n",
       "      <td>26.0</td>\n",
       "      <td>0</td>\n",
       "      <td>1</td>\n",
       "      <td>0</td>\n",
       "    </tr>\n",
       "    <tr>\n",
       "      <th>3</th>\n",
       "      <td>4</td>\n",
       "      <td>1</td>\n",
       "      <td>1</td>\n",
       "      <td>35.0</td>\n",
       "      <td>1</td>\n",
       "      <td>1</td>\n",
       "      <td>0</td>\n",
       "    </tr>\n",
       "    <tr>\n",
       "      <th>4</th>\n",
       "      <td>5</td>\n",
       "      <td>0</td>\n",
       "      <td>3</td>\n",
       "      <td>35.0</td>\n",
       "      <td>0</td>\n",
       "      <td>0</td>\n",
       "      <td>1</td>\n",
       "    </tr>\n",
       "  </tbody>\n",
       "</table>\n",
       "</div>"
      ],
      "text/plain": [
       "   PassengerId  Survived  Pclass   Age  SibSp  Sex_female  Sex_male\n",
       "0            1         0       3  22.0      1           0         1\n",
       "1            2         1       1  38.0      1           1         0\n",
       "2            3         1       3  26.0      0           1         0\n",
       "3            4         1       1  35.0      1           1         0\n",
       "4            5         0       3  35.0      0           0         1"
      ]
     },
     "execution_count": 13,
     "metadata": {},
     "output_type": "execute_result"
    }
   ],
   "source": [
    "train.head()"
   ]
  },
  {
   "cell_type": "code",
   "execution_count": 14,
   "id": "2c2e412a",
   "metadata": {
    "execution": {
     "iopub.execute_input": "2021-11-03T07:06:04.210486Z",
     "iopub.status.busy": "2021-11-03T07:06:04.209593Z",
     "iopub.status.idle": "2021-11-03T07:06:04.213548Z",
     "shell.execute_reply": "2021-11-03T07:06:04.212945Z",
     "shell.execute_reply.started": "2021-11-03T07:04:55.637076Z"
    },
    "papermill": {
     "duration": 0.02402,
     "end_time": "2021-11-03T07:06:04.213688",
     "exception": false,
     "start_time": "2021-11-03T07:06:04.189668",
     "status": "completed"
    },
    "tags": []
   },
   "outputs": [],
   "source": [
    "train=train.drop(['PassengerId'],axis=1)"
   ]
  },
  {
   "cell_type": "code",
   "execution_count": 15,
   "id": "a0cd4561",
   "metadata": {
    "execution": {
     "iopub.execute_input": "2021-11-03T07:06:04.247260Z",
     "iopub.status.busy": "2021-11-03T07:06:04.246314Z",
     "iopub.status.idle": "2021-11-03T07:06:04.256551Z",
     "shell.execute_reply": "2021-11-03T07:06:04.257081Z",
     "shell.execute_reply.started": "2021-11-03T07:04:55.645540Z"
    },
    "papermill": {
     "duration": 0.028664,
     "end_time": "2021-11-03T07:06:04.257249",
     "exception": false,
     "start_time": "2021-11-03T07:06:04.228585",
     "status": "completed"
    },
    "tags": []
   },
   "outputs": [
    {
     "data": {
      "text/html": [
       "<div>\n",
       "<style scoped>\n",
       "    .dataframe tbody tr th:only-of-type {\n",
       "        vertical-align: middle;\n",
       "    }\n",
       "\n",
       "    .dataframe tbody tr th {\n",
       "        vertical-align: top;\n",
       "    }\n",
       "\n",
       "    .dataframe thead th {\n",
       "        text-align: right;\n",
       "    }\n",
       "</style>\n",
       "<table border=\"1\" class=\"dataframe\">\n",
       "  <thead>\n",
       "    <tr style=\"text-align: right;\">\n",
       "      <th></th>\n",
       "      <th>Survived</th>\n",
       "      <th>Pclass</th>\n",
       "      <th>Age</th>\n",
       "      <th>SibSp</th>\n",
       "      <th>Sex_female</th>\n",
       "      <th>Sex_male</th>\n",
       "    </tr>\n",
       "  </thead>\n",
       "  <tbody>\n",
       "    <tr>\n",
       "      <th>0</th>\n",
       "      <td>0</td>\n",
       "      <td>3</td>\n",
       "      <td>22.0</td>\n",
       "      <td>1</td>\n",
       "      <td>0</td>\n",
       "      <td>1</td>\n",
       "    </tr>\n",
       "    <tr>\n",
       "      <th>1</th>\n",
       "      <td>1</td>\n",
       "      <td>1</td>\n",
       "      <td>38.0</td>\n",
       "      <td>1</td>\n",
       "      <td>1</td>\n",
       "      <td>0</td>\n",
       "    </tr>\n",
       "    <tr>\n",
       "      <th>2</th>\n",
       "      <td>1</td>\n",
       "      <td>3</td>\n",
       "      <td>26.0</td>\n",
       "      <td>0</td>\n",
       "      <td>1</td>\n",
       "      <td>0</td>\n",
       "    </tr>\n",
       "    <tr>\n",
       "      <th>3</th>\n",
       "      <td>1</td>\n",
       "      <td>1</td>\n",
       "      <td>35.0</td>\n",
       "      <td>1</td>\n",
       "      <td>1</td>\n",
       "      <td>0</td>\n",
       "    </tr>\n",
       "    <tr>\n",
       "      <th>4</th>\n",
       "      <td>0</td>\n",
       "      <td>3</td>\n",
       "      <td>35.0</td>\n",
       "      <td>0</td>\n",
       "      <td>0</td>\n",
       "      <td>1</td>\n",
       "    </tr>\n",
       "  </tbody>\n",
       "</table>\n",
       "</div>"
      ],
      "text/plain": [
       "   Survived  Pclass   Age  SibSp  Sex_female  Sex_male\n",
       "0         0       3  22.0      1           0         1\n",
       "1         1       1  38.0      1           1         0\n",
       "2         1       3  26.0      0           1         0\n",
       "3         1       1  35.0      1           1         0\n",
       "4         0       3  35.0      0           0         1"
      ]
     },
     "execution_count": 15,
     "metadata": {},
     "output_type": "execute_result"
    }
   ],
   "source": [
    "train.head()"
   ]
  },
  {
   "cell_type": "code",
   "execution_count": 16,
   "id": "9e09f199",
   "metadata": {
    "execution": {
     "iopub.execute_input": "2021-11-03T07:06:04.294673Z",
     "iopub.status.busy": "2021-11-03T07:06:04.294039Z",
     "iopub.status.idle": "2021-11-03T07:06:04.299705Z",
     "shell.execute_reply": "2021-11-03T07:06:04.300237Z",
     "shell.execute_reply.started": "2021-11-03T07:04:55.667322Z"
    },
    "papermill": {
     "duration": 0.027926,
     "end_time": "2021-11-03T07:06:04.300404",
     "exception": false,
     "start_time": "2021-11-03T07:06:04.272478",
     "status": "completed"
    },
    "tags": []
   },
   "outputs": [],
   "source": [
    "predictors = train.drop([\"Survived\"], axis=1)\n",
    "target = train[\"Survived\"]\n",
    "x_train, x_test, y_train, y_test = train_test_split(predictors, target, test_size = 0.3, random_state = 0)"
   ]
  },
  {
   "cell_type": "code",
   "execution_count": 17,
   "id": "e2fe4c59",
   "metadata": {
    "execution": {
     "iopub.execute_input": "2021-11-03T07:06:04.335916Z",
     "iopub.status.busy": "2021-11-03T07:06:04.334755Z",
     "iopub.status.idle": "2021-11-03T07:06:04.354004Z",
     "shell.execute_reply": "2021-11-03T07:06:04.353277Z",
     "shell.execute_reply.started": "2021-11-03T07:04:55.681686Z"
    },
    "papermill": {
     "duration": 0.038247,
     "end_time": "2021-11-03T07:06:04.354189",
     "exception": false,
     "start_time": "2021-11-03T07:06:04.315942",
     "status": "completed"
    },
    "tags": []
   },
   "outputs": [
    {
     "name": "stdout",
     "output_type": "stream",
     "text": [
      "              precision    recall  f1-score   support\n",
      "\n",
      "           0       0.83      0.86      0.84       168\n",
      "           1       0.74      0.70      0.72       100\n",
      "\n",
      "    accuracy                           0.80       268\n",
      "   macro avg       0.79      0.78      0.78       268\n",
      "weighted avg       0.80      0.80      0.80       268\n",
      "\n",
      "[[144  24]\n",
      " [ 30  70]]\n",
      "Logistic regression accuracy:  0.7985074626865671\n"
     ]
    }
   ],
   "source": [
    "LRclassifier = LogisticRegression(solver='liblinear', max_iter=5000)\n",
    "LRclassifier.fit(x_train, y_train)\n",
    "\n",
    "y_pred = LRclassifier.predict(x_test)\n",
    "\n",
    "print(classification_report(y_test, y_pred))\n",
    "print(confusion_matrix(y_test, y_pred))\n",
    "LRAcc = accuracy_score(y_pred,y_test)\n",
    "\n",
    "print('Logistic regression accuracy: ', LRAcc)"
   ]
  },
  {
   "cell_type": "code",
   "execution_count": null,
   "id": "1c5af80d",
   "metadata": {
    "papermill": {
     "duration": 0.014988,
     "end_time": "2021-11-03T07:06:04.385638",
     "exception": false,
     "start_time": "2021-11-03T07:06:04.370650",
     "status": "completed"
    },
    "tags": []
   },
   "outputs": [],
   "source": []
  }
 ],
 "metadata": {
  "kernelspec": {
   "display_name": "Python 3",
   "language": "python",
   "name": "python3"
  },
  "language_info": {
   "codemirror_mode": {
    "name": "ipython",
    "version": 3
   },
   "file_extension": ".py",
   "mimetype": "text/x-python",
   "name": "python",
   "nbconvert_exporter": "python",
   "pygments_lexer": "ipython3",
   "version": "3.7.10"
  },
  "papermill": {
   "default_parameters": {},
   "duration": 10.776017,
   "end_time": "2021-11-03T07:06:05.588966",
   "environment_variables": {},
   "exception": null,
   "input_path": "__notebook__.ipynb",
   "output_path": "__notebook__.ipynb",
   "parameters": {},
   "start_time": "2021-11-03T07:05:54.812949",
   "version": "2.3.3"
  }
 },
 "nbformat": 4,
 "nbformat_minor": 5
}
